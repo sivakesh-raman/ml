{
  "nbformat": 4,
  "nbformat_minor": 0,
  "metadata": {
    "colab": {
      "name": "Summary for a Document.ipynb",
      "provenance": [],
      "authorship_tag": "ABX9TyO3lLqbdrFQW8uyu/giYXR6",
      "include_colab_link": true
    },
    "kernelspec": {
      "name": "python3",
      "display_name": "Python 3"
    },
    "language_info": {
      "name": "python"
    }
  },
  "cells": [
    {
      "cell_type": "markdown",
      "metadata": {
        "id": "view-in-github",
        "colab_type": "text"
      },
      "source": [
        "<a href=\"https://colab.research.google.com/github/sivakesh-raman/ml/blob/master/Summary_for_a_Document.ipynb\" target=\"_parent\"><img src=\"https://colab.research.google.com/assets/colab-badge.svg\" alt=\"Open In Colab\"/></a>"
      ]
    },
    {
      "cell_type": "markdown",
      "source": [
        "# Summary for a Document\n"
      ],
      "metadata": {
        "id": "sfKlv6rrF2Se"
      }
    },
    {
      "cell_type": "code",
      "source": [
        "doc_to_summarize = \"\"\"The US Air Force crew that took off from an Afghan airport last year while civilians swarmed their plane \"acted appropriately\", an inquiry has found.\n",
        "\n",
        "People were seen running alongside the air force plane in August 2021 as it left the airport, some clinging to its side, during the chaotic US withdrawal.\n",
        "\n",
        "Human remains were found in the plane's wheel well after it landed in Qatar.\n",
        "\n",
        "But an incident review by the military said the crew \"was in compliance\" with regulations.\n",
        "\n",
        "A spokeswoman for the Air Force's Office of Special Investigations said on Monday that the flight crew had been cleared after a nearly 10-month investigation.\n",
        "\n",
        "The crew \"was in compliance with applicable rules of engagement specific to the event and the overall law of armed conflict\" amid \"an unprecedented evacuation where resources were constrained\", Linda Card said.\n",
        "\n",
        "The air force had said shortly after the incident that the crew had to depart the airport quickly due to a \"rapidly deteriorating security situation around the aircraft\".\n",
        "\n",
        "As the Taliban recaptured Afghanistan amid the US withdrawal, thousands of people scrambled to the Kabul airport as Western nations rushed to evacuate their citizens and Afghan colleagues from the country.\n",
        "\n",
        "Images showed hundreds running alongside the C-17 Globemaster III as it moved down a runway. Local media reports later said that at least two people fell to their deaths after it took off, in addition to the human remains found in the aircraft's landing gear.\n",
        "\n",
        "Among the dead was footballer Zaki Anwari, 19, who had played for Afghanistan's national youth team.\n",
        "\n",
        "Anwari \"saw the arrival of the Taliban as the end of his dreams and sports opportunities\", the country's General Directorate of Physical Education and Sports said in a statement on Facebook at the time.\n",
        "\n",
        "Air Force spokeswoman Ann Stefanek acknowledged on Monday the incident was \"a tragic event and our hearts go out to the families of the deceased\".\n",
        "\n",
        "But she confirmed the crew had returned to flight status, crediting their \"airmanship and quick thinking\" for ensuring the safety of the crew and their aircraft during the incident.\"\"\""
      ],
      "metadata": {
        "id": "lpN_lB_51ZRM"
      },
      "execution_count": null,
      "outputs": []
    },
    {
      "cell_type": "code",
      "source": [
        "len(doc_to_summarize)"
      ],
      "metadata": {
        "colab": {
          "base_uri": "https://localhost:8080/"
        },
        "id": "D5aKgDlc1cYi",
        "outputId": "fe81251d-0051-4206-90c8-ea08bec3a235"
      },
      "execution_count": null,
      "outputs": [
        {
          "output_type": "execute_result",
          "data": {
            "text/plain": [
              "2124"
            ]
          },
          "metadata": {},
          "execution_count": 50
        }
      ]
    },
    {
      "cell_type": "markdown",
      "source": [
        "# Import Libraries"
      ],
      "metadata": {
        "id": "8Q89X2K7GizB"
      }
    },
    {
      "cell_type": "code",
      "source": [
        "import spacy\n",
        "from spacy.lang.en.stop_words import STOP_WORDS\n",
        "from string import punctuation"
      ],
      "metadata": {
        "id": "dUXsNl7J1d4i"
      },
      "execution_count": null,
      "outputs": []
    },
    {
      "cell_type": "code",
      "source": [
        "nlp = spacy.load(\"en_core_web_sm\")"
      ],
      "metadata": {
        "id": "vy3_7cye24xa"
      },
      "execution_count": null,
      "outputs": []
    },
    {
      "cell_type": "code",
      "source": [
        "doc = nlp(doc_to_summarize)"
      ],
      "metadata": {
        "id": "HXXXdWKM3E_m"
      },
      "execution_count": null,
      "outputs": []
    },
    {
      "cell_type": "code",
      "source": [
        "tokens = [token.text for token in doc]\n",
        "print(tokens)"
      ],
      "metadata": {
        "colab": {
          "base_uri": "https://localhost:8080/"
        },
        "id": "2Jq0iGRH3MA1",
        "outputId": "9d2e1638-b0da-4c80-8746-b2fe18cee911"
      },
      "execution_count": null,
      "outputs": [
        {
          "output_type": "stream",
          "name": "stdout",
          "text": [
            "['The', 'US', 'Air', 'Force', 'crew', 'that', 'took', 'off', 'from', 'an', 'Afghan', 'airport', 'last', 'year', 'while', 'civilians', 'swarmed', 'their', 'plane', '\"', 'acted', 'appropriately', '\"', ',', 'an', 'inquiry', 'has', 'found', '.', '\\n\\n', 'People', 'were', 'seen', 'running', 'alongside', 'the', 'air', 'force', 'plane', 'in', 'August', '2021', 'as', 'it', 'left', 'the', 'airport', ',', 'some', 'clinging', 'to', 'its', 'side', ',', 'during', 'the', 'chaotic', 'US', 'withdrawal', '.', '\\n\\n', 'Human', 'remains', 'were', 'found', 'in', 'the', 'plane', \"'s\", 'wheel', 'well', 'after', 'it', 'landed', 'in', 'Qatar', '.', '\\n\\n', 'But', 'an', 'incident', 'review', 'by', 'the', 'military', 'said', 'the', 'crew', '\"', 'was', 'in', 'compliance', '\"', 'with', 'regulations', '.', '\\n\\n', 'A', 'spokeswoman', 'for', 'the', 'Air', 'Force', \"'s\", 'Office', 'of', 'Special', 'Investigations', 'said', 'on', 'Monday', 'that', 'the', 'flight', 'crew', 'had', 'been', 'cleared', 'after', 'a', 'nearly', '10-month', 'investigation', '.', '\\n\\n', 'The', 'crew', '\"', 'was', 'in', 'compliance', 'with', 'applicable', 'rules', 'of', 'engagement', 'specific', 'to', 'the', 'event', 'and', 'the', 'overall', 'law', 'of', 'armed', 'conflict', '\"', 'amid', '\"', 'an', 'unprecedented', 'evacuation', 'where', 'resources', 'were', 'constrained', '\"', ',', 'Linda', 'Card', 'said', '.', '\\n\\n', 'The', 'air', 'force', 'had', 'said', 'shortly', 'after', 'the', 'incident', 'that', 'the', 'crew', 'had', 'to', 'depart', 'the', 'airport', 'quickly', 'due', 'to', 'a', '\"', 'rapidly', 'deteriorating', 'security', 'situation', 'around', 'the', 'aircraft', '\"', '.', '\\n\\n', 'As', 'the', 'Taliban', 'recaptured', 'Afghanistan', 'amid', 'the', 'US', 'withdrawal', ',', 'thousands', 'of', 'people', 'scrambled', 'to', 'the', 'Kabul', 'airport', 'as', 'Western', 'nations', 'rushed', 'to', 'evacuate', 'their', 'citizens', 'and', 'Afghan', 'colleagues', 'from', 'the', 'country', '.', '\\n\\n', 'Images', 'showed', 'hundreds', 'running', 'alongside', 'the', 'C-17', 'Globemaster', 'III', 'as', 'it', 'moved', 'down', 'a', 'runway', '.', 'Local', 'media', 'reports', 'later', 'said', 'that', 'at', 'least', 'two', 'people', 'fell', 'to', 'their', 'deaths', 'after', 'it', 'took', 'off', ',', 'in', 'addition', 'to', 'the', 'human', 'remains', 'found', 'in', 'the', 'aircraft', \"'s\", 'landing', 'gear', '.', '\\n\\n', 'Among', 'the', 'dead', 'was', 'footballer', 'Zaki', 'Anwari', ',', '19', ',', 'who', 'had', 'played', 'for', 'Afghanistan', \"'s\", 'national', 'youth', 'team', '.', '\\n\\n', 'Anwari', '\"', 'saw', 'the', 'arrival', 'of', 'the', 'Taliban', 'as', 'the', 'end', 'of', 'his', 'dreams', 'and', 'sports', 'opportunities', '\"', ',', 'the', 'country', \"'s\", 'General', 'Directorate', 'of', 'Physical', 'Education', 'and', 'Sports', 'said', 'in', 'a', 'statement', 'on', 'Facebook', 'at', 'the', 'time', '.', '\\n\\n', 'Air', 'Force', 'spokeswoman', 'Ann', 'Stefanek', 'acknowledged', 'on', 'Monday', 'the', 'incident', 'was', '\"', 'a', 'tragic', 'event', 'and', 'our', 'hearts', 'go', 'out', 'to', 'the', 'families', 'of', 'the', 'deceased', '\"', '.', '\\n\\n', 'But', 'she', 'confirmed', 'the', 'crew', 'had', 'returned', 'to', 'flight', 'status', ',', 'crediting', 'their', '\"', 'airmanship', 'and', 'quick', 'thinking', '\"', 'for', 'ensuring', 'the', 'safety', 'of', 'the', 'crew', 'and', 'their', 'aircraft', 'during', 'the', 'incident', '.']\n"
          ]
        }
      ]
    },
    {
      "cell_type": "code",
      "source": [
        "punctuation"
      ],
      "metadata": {
        "colab": {
          "base_uri": "https://localhost:8080/",
          "height": 35
        },
        "id": "fuA_n21X366Y",
        "outputId": "4cd90ee0-5ed6-410a-f011-09b806626a01"
      },
      "execution_count": null,
      "outputs": [
        {
          "output_type": "execute_result",
          "data": {
            "text/plain": [
              "'!\"#$%&\\'()*+,-./:;<=>?@[\\\\]^_`{|}~'"
            ],
            "application/vnd.google.colaboratory.intrinsic+json": {
              "type": "string"
            }
          },
          "metadata": {},
          "execution_count": 55
        }
      ]
    },
    {
      "cell_type": "code",
      "source": [
        "punctuation = punctuation + \"\\n\""
      ],
      "metadata": {
        "id": "zVFT_a0i3tDS"
      },
      "execution_count": null,
      "outputs": []
    },
    {
      "cell_type": "code",
      "source": [
        "punctuation"
      ],
      "metadata": {
        "colab": {
          "base_uri": "https://localhost:8080/",
          "height": 35
        },
        "id": "7EkMX74LHJdF",
        "outputId": "3eb68b7f-5ef8-48b7-d9c2-e641a5dbeb6c"
      },
      "execution_count": null,
      "outputs": [
        {
          "output_type": "execute_result",
          "data": {
            "text/plain": [
              "'!\"#$%&\\'()*+,-./:;<=>?@[\\\\]^_`{|}~\\n'"
            ],
            "application/vnd.google.colaboratory.intrinsic+json": {
              "type": "string"
            }
          },
          "metadata": {},
          "execution_count": 57
        }
      ]
    },
    {
      "cell_type": "code",
      "source": [
        "stop_words = list(STOP_WORDS)\n",
        "print (stop_words)\n"
      ],
      "metadata": {
        "colab": {
          "base_uri": "https://localhost:8080/"
        },
        "id": "qFESGtT937aX",
        "outputId": "b96dbc3c-ef8a-4bf8-e57f-a284fd2331b2"
      },
      "execution_count": null,
      "outputs": [
        {
          "output_type": "stream",
          "name": "stdout",
          "text": [
            "['whither', 'each', 'noone', 'give', 'whereby', 'whereupon', 'what', 'throughout', 'am', 'two', '’ve', 'beside', 'no', 'without', 'others', 'between', 'unless', 'there', 'already', 'side', 'wherein', 'anyone', 'ten', 'ourselves', 'made', 'further', 'at', 'anyhow', 'go', 'an', 'anything', 'three', 'hereafter', 'becomes', 'for', 'seeming', 'down', 'amongst', 'front', 'itself', 'above', 'to', 'empty', 'nine', 'via', 'until', 'whose', 'whether', 'fifteen', 'up', 'yourselves', 'wherever', 'then', 'thereupon', 'against', 'sixty', 'may', 'hence', 'almost', '‘re', 'nobody', 'using', 'nevertheless', 'together', 'themselves', 'say', 'somewhere', 'being', 'become', 'seems', 'through', 'why', 'some', 'had', 'none', '‘d', 'that', 'thence', 'few', 'is', 'yet', 'these', 'whoever', 'always', 'them', 'even', 'off', 'besides', 'over', 'done', 'our', 'used', 'do', 'third', 'does', 'another', 'her', 'have', 'four', 'get', 'i', 'very', \"'d\", '‘ve', 'she', 'well', 'their', 'someone', 'per', 'either', 'under', 'five', 'nor', 'as', 'hereby', \"'re\", 'after', 'did', 'should', 'n’t', 'forty', 'every', 'fifty', 'other', 'by', 'still', \"'s\", '’re', 'both', 'where', 'his', 'during', 'before', 'everyone', 'must', 'who', 'whole', 'regarding', 'name', 'neither', 'while', 'although', 'moreover', 'call', 'he', 'onto', 'herself', 'how', 'of', 'beyond', 'less', 'perhaps', 'move', 'within', 'himself', 'along', 'one', 'ca', 'anyway', 'except', 'cannot', 'ours', 'back', 'rather', 'us', 'anywhere', 'seemed', 'ever', 'any', 'such', 'thereafter', 'else', '‘s', 'also', 'it', 'are', 'beforehand', 'eight', 'amount', 'former', 'afterwards', 'something', 'see', \"'m\", 'now', 'out', 'among', 'thereby', 'so', 'was', 'upon', 'has', 'whereafter', 'hundred', 'n‘t', 'across', 'bottom', 'somehow', 'however', 'whatever', 'here', 'your', 'becoming', 'once', 'me', 'many', 'whence', 'which', 'otherwise', 'various', 'latter', 'were', '’ll', 'due', 'put', 'twelve', 'hers', 'this', 'since', 'nowhere', 'same', 'next', 'will', 'became', 'might', '’m', 'all', 'and', 'from', 'make', 'though', 'below', 'several', 'twenty', 'or', 'last', 'because', 'mine', 'whenever', 'but', 'myself', 'whom', 'would', 'alone', 'the', 'first', 'therefore', 'more', 'serious', \"'ve\", 're', 'we', 'most', 'sometimes', 'him', '’s', 'latterly', '‘ll', 'formerly', 'never', 'yours', 'yourself', 'in', \"n't\", 'they', 'thus', 'namely', 'show', 'top', 'can', 'full', 'than', 'those', 'everywhere', 'too', 'therein', 'into', 'nothing', 'doing', 'behind', 'just', 'about', 'when', 'herein', 'least', 'not', 'enough', '’d', 'only', 'seem', 'be', 'been', 'thru', 'its', 'take', 'whereas', \"'ll\", 'six', 'hereupon', 'much', 'keep', 'sometime', 'eleven', 'a', 'could', 'around', 'everything', 'again', 'meanwhile', 'my', '‘m', 'really', 'if', 'quite', 'you', 'mostly', 'on', 'towards', 'indeed', 'toward', 'with', 'please', 'elsewhere', 'often', 'own', 'part']\n"
          ]
        }
      ]
    },
    {
      "cell_type": "markdown",
      "source": [
        "# Word Extraction"
      ],
      "metadata": {
        "id": "89l_D7FpJBov"
      }
    },
    {
      "cell_type": "code",
      "source": [
        "word_frequency = {}\n",
        "\n",
        "for word in doc:\n",
        "  if word.text.lower() not in stop_words:\n",
        "    if word.text.lower() not in punctuation:\n",
        "      if word.text not in word_frequency.keys():\n",
        "        word_frequency[word.text] = 1\n",
        "      else:\n",
        "        word_frequency[word.text] += 1\n",
        "\n",
        "print(word_frequency)"
      ],
      "metadata": {
        "colab": {
          "base_uri": "https://localhost:8080/"
        },
        "id": "B8BHgIGJ5OtT",
        "outputId": "14da1ded-a207-4c1a-92bb-04ba75174410"
      },
      "execution_count": null,
      "outputs": [
        {
          "output_type": "stream",
          "name": "stdout",
          "text": [
            "{'Air': 3, 'Force': 3, 'crew': 7, 'took': 2, 'Afghan': 2, 'airport': 4, 'year': 1, 'civilians': 1, 'swarmed': 1, 'plane': 3, 'acted': 1, 'appropriately': 1, 'inquiry': 1, 'found': 3, '\\n\\n': 12, 'People': 1, 'seen': 1, 'running': 2, 'alongside': 2, 'air': 2, 'force': 2, 'August': 1, '2021': 1, 'left': 1, 'clinging': 1, 'chaotic': 1, 'withdrawal': 2, 'Human': 1, 'remains': 2, 'wheel': 1, 'landed': 1, 'Qatar': 1, 'incident': 4, 'review': 1, 'military': 1, 'said': 6, 'compliance': 2, 'regulations': 1, 'spokeswoman': 2, 'Office': 1, 'Special': 1, 'Investigations': 1, 'Monday': 2, 'flight': 2, 'cleared': 1, 'nearly': 1, '10-month': 1, 'investigation': 1, 'applicable': 1, 'rules': 1, 'engagement': 1, 'specific': 1, 'event': 2, 'overall': 1, 'law': 1, 'armed': 1, 'conflict': 1, 'amid': 2, 'unprecedented': 1, 'evacuation': 1, 'resources': 1, 'constrained': 1, 'Linda': 1, 'Card': 1, 'shortly': 1, 'depart': 1, 'quickly': 1, 'rapidly': 1, 'deteriorating': 1, 'security': 1, 'situation': 1, 'aircraft': 3, 'Taliban': 2, 'recaptured': 1, 'Afghanistan': 2, 'thousands': 1, 'people': 2, 'scrambled': 1, 'Kabul': 1, 'Western': 1, 'nations': 1, 'rushed': 1, 'evacuate': 1, 'citizens': 1, 'colleagues': 1, 'country': 2, 'Images': 1, 'showed': 1, 'hundreds': 1, 'C-17': 1, 'Globemaster': 1, 'III': 1, 'moved': 1, 'runway': 1, 'Local': 1, 'media': 1, 'reports': 1, 'later': 1, 'fell': 1, 'deaths': 1, 'addition': 1, 'human': 1, 'landing': 1, 'gear': 1, 'dead': 1, 'footballer': 1, 'Zaki': 1, 'Anwari': 2, '19': 1, 'played': 1, 'national': 1, 'youth': 1, 'team': 1, 'saw': 1, 'arrival': 1, 'end': 1, 'dreams': 1, 'sports': 1, 'opportunities': 1, 'General': 1, 'Directorate': 1, 'Physical': 1, 'Education': 1, 'Sports': 1, 'statement': 1, 'Facebook': 1, 'time': 1, 'Ann': 1, 'Stefanek': 1, 'acknowledged': 1, 'tragic': 1, 'hearts': 1, 'families': 1, 'deceased': 1, 'confirmed': 1, 'returned': 1, 'status': 1, 'crediting': 1, 'airmanship': 1, 'quick': 1, 'thinking': 1, 'ensuring': 1, 'safety': 1}\n"
          ]
        }
      ]
    },
    {
      "cell_type": "code",
      "source": [
        "max_frequency = max(word_frequency.values())"
      ],
      "metadata": {
        "id": "daviIuZe67N_"
      },
      "execution_count": null,
      "outputs": []
    },
    {
      "cell_type": "code",
      "source": [
        "print(max_frequency)"
      ],
      "metadata": {
        "colab": {
          "base_uri": "https://localhost:8080/"
        },
        "id": "qZMOARoRHe0E",
        "outputId": "9af76c3a-a0ad-4908-f388-ddecc94785d1"
      },
      "execution_count": null,
      "outputs": [
        {
          "output_type": "stream",
          "name": "stdout",
          "text": [
            "12\n"
          ]
        }
      ]
    },
    {
      "cell_type": "code",
      "source": [
        "for word in word_frequency.keys():\n",
        "  word_frequency[word] = word_frequency[word] / max_frequency\n"
      ],
      "metadata": {
        "id": "9NR38dlC7fDl"
      },
      "execution_count": null,
      "outputs": []
    },
    {
      "cell_type": "code",
      "source": [
        "print (word_frequency)\n"
      ],
      "metadata": {
        "colab": {
          "base_uri": "https://localhost:8080/"
        },
        "id": "-EM9uTob70HL",
        "outputId": "e4f6394b-3643-40c6-8de5-17abed9c734c"
      },
      "execution_count": null,
      "outputs": [
        {
          "output_type": "stream",
          "name": "stdout",
          "text": [
            "{'Air': 0.25, 'Force': 0.25, 'crew': 0.5833333333333334, 'took': 0.16666666666666666, 'Afghan': 0.16666666666666666, 'airport': 0.3333333333333333, 'year': 0.08333333333333333, 'civilians': 0.08333333333333333, 'swarmed': 0.08333333333333333, 'plane': 0.25, 'acted': 0.08333333333333333, 'appropriately': 0.08333333333333333, 'inquiry': 0.08333333333333333, 'found': 0.25, '\\n\\n': 1.0, 'People': 0.08333333333333333, 'seen': 0.08333333333333333, 'running': 0.16666666666666666, 'alongside': 0.16666666666666666, 'air': 0.16666666666666666, 'force': 0.16666666666666666, 'August': 0.08333333333333333, '2021': 0.08333333333333333, 'left': 0.08333333333333333, 'clinging': 0.08333333333333333, 'chaotic': 0.08333333333333333, 'withdrawal': 0.16666666666666666, 'Human': 0.08333333333333333, 'remains': 0.16666666666666666, 'wheel': 0.08333333333333333, 'landed': 0.08333333333333333, 'Qatar': 0.08333333333333333, 'incident': 0.3333333333333333, 'review': 0.08333333333333333, 'military': 0.08333333333333333, 'said': 0.5, 'compliance': 0.16666666666666666, 'regulations': 0.08333333333333333, 'spokeswoman': 0.16666666666666666, 'Office': 0.08333333333333333, 'Special': 0.08333333333333333, 'Investigations': 0.08333333333333333, 'Monday': 0.16666666666666666, 'flight': 0.16666666666666666, 'cleared': 0.08333333333333333, 'nearly': 0.08333333333333333, '10-month': 0.08333333333333333, 'investigation': 0.08333333333333333, 'applicable': 0.08333333333333333, 'rules': 0.08333333333333333, 'engagement': 0.08333333333333333, 'specific': 0.08333333333333333, 'event': 0.16666666666666666, 'overall': 0.08333333333333333, 'law': 0.08333333333333333, 'armed': 0.08333333333333333, 'conflict': 0.08333333333333333, 'amid': 0.16666666666666666, 'unprecedented': 0.08333333333333333, 'evacuation': 0.08333333333333333, 'resources': 0.08333333333333333, 'constrained': 0.08333333333333333, 'Linda': 0.08333333333333333, 'Card': 0.08333333333333333, 'shortly': 0.08333333333333333, 'depart': 0.08333333333333333, 'quickly': 0.08333333333333333, 'rapidly': 0.08333333333333333, 'deteriorating': 0.08333333333333333, 'security': 0.08333333333333333, 'situation': 0.08333333333333333, 'aircraft': 0.25, 'Taliban': 0.16666666666666666, 'recaptured': 0.08333333333333333, 'Afghanistan': 0.16666666666666666, 'thousands': 0.08333333333333333, 'people': 0.16666666666666666, 'scrambled': 0.08333333333333333, 'Kabul': 0.08333333333333333, 'Western': 0.08333333333333333, 'nations': 0.08333333333333333, 'rushed': 0.08333333333333333, 'evacuate': 0.08333333333333333, 'citizens': 0.08333333333333333, 'colleagues': 0.08333333333333333, 'country': 0.16666666666666666, 'Images': 0.08333333333333333, 'showed': 0.08333333333333333, 'hundreds': 0.08333333333333333, 'C-17': 0.08333333333333333, 'Globemaster': 0.08333333333333333, 'III': 0.08333333333333333, 'moved': 0.08333333333333333, 'runway': 0.08333333333333333, 'Local': 0.08333333333333333, 'media': 0.08333333333333333, 'reports': 0.08333333333333333, 'later': 0.08333333333333333, 'fell': 0.08333333333333333, 'deaths': 0.08333333333333333, 'addition': 0.08333333333333333, 'human': 0.08333333333333333, 'landing': 0.08333333333333333, 'gear': 0.08333333333333333, 'dead': 0.08333333333333333, 'footballer': 0.08333333333333333, 'Zaki': 0.08333333333333333, 'Anwari': 0.16666666666666666, '19': 0.08333333333333333, 'played': 0.08333333333333333, 'national': 0.08333333333333333, 'youth': 0.08333333333333333, 'team': 0.08333333333333333, 'saw': 0.08333333333333333, 'arrival': 0.08333333333333333, 'end': 0.08333333333333333, 'dreams': 0.08333333333333333, 'sports': 0.08333333333333333, 'opportunities': 0.08333333333333333, 'General': 0.08333333333333333, 'Directorate': 0.08333333333333333, 'Physical': 0.08333333333333333, 'Education': 0.08333333333333333, 'Sports': 0.08333333333333333, 'statement': 0.08333333333333333, 'Facebook': 0.08333333333333333, 'time': 0.08333333333333333, 'Ann': 0.08333333333333333, 'Stefanek': 0.08333333333333333, 'acknowledged': 0.08333333333333333, 'tragic': 0.08333333333333333, 'hearts': 0.08333333333333333, 'families': 0.08333333333333333, 'deceased': 0.08333333333333333, 'confirmed': 0.08333333333333333, 'returned': 0.08333333333333333, 'status': 0.08333333333333333, 'crediting': 0.08333333333333333, 'airmanship': 0.08333333333333333, 'quick': 0.08333333333333333, 'thinking': 0.08333333333333333, 'ensuring': 0.08333333333333333, 'safety': 0.08333333333333333}\n"
          ]
        }
      ]
    },
    {
      "cell_type": "markdown",
      "source": [
        "# Sentance tokenization"
      ],
      "metadata": {
        "id": "Awm_vGPsJT8v"
      }
    },
    {
      "cell_type": "code",
      "source": [
        "sent_token = [sent for sent in doc.sents]\n",
        "print(sent_token)"
      ],
      "metadata": {
        "colab": {
          "base_uri": "https://localhost:8080/"
        },
        "id": "FWwTCpvg8jHW",
        "outputId": "3ed549f9-690d-44bb-8903-24e5d9d6af32"
      },
      "execution_count": null,
      "outputs": [
        {
          "output_type": "stream",
          "name": "stdout",
          "text": [
            "[The US Air Force crew that took off from an Afghan airport last year while civilians swarmed their plane \"acted appropriately\", an inquiry has found.\n",
            "\n",
            ", People were seen running alongside the air force plane in August 2021 as it left the airport, some clinging to its side, during the chaotic US withdrawal.\n",
            "\n",
            ", Human remains were found in the plane's wheel well after it landed in Qatar.\n",
            "\n",
            ", But an incident review by the military said the crew \"was in compliance\" with regulations.\n",
            "\n",
            ", A spokeswoman for the Air Force's Office of Special Investigations said on Monday that the flight crew had been cleared after a nearly 10-month investigation.\n",
            "\n",
            ", The crew \"was in compliance with applicable rules of engagement specific to the event and the overall law of armed conflict\" amid \"an unprecedented evacuation where resources were constrained\", Linda Card said.\n",
            "\n",
            ", The air force had said shortly after the incident that the crew had to depart the airport quickly due to a \"rapidly deteriorating security situation around the aircraft\".\n",
            "\n",
            ", As the Taliban recaptured Afghanistan amid the US withdrawal, thousands of people scrambled to the Kabul airport as Western nations rushed to evacuate their citizens and Afghan colleagues from the country.\n",
            "\n",
            ", Images showed hundreds running alongside the C-17 Globemaster III as it moved down a runway., Local media reports later said that at least two people fell to their deaths after it took off, in addition to the human remains found in the aircraft's landing gear.\n",
            "\n",
            ", Among the dead was footballer Zaki Anwari, 19, who had played for Afghanistan's national youth team.\n",
            "\n",
            ", Anwari \"saw the arrival of the Taliban as the end of his dreams and sports opportunities\", the country's General Directorate of Physical Education and Sports said in a statement on Facebook at the time.\n",
            "\n",
            ", Air Force spokeswoman Ann Stefanek acknowledged on Monday the incident was \"a tragic event and our hearts go out to the families of the deceased\".\n",
            "\n",
            ", But she confirmed the crew had returned to flight status, crediting their \"airmanship and quick thinking\" for ensuring the safety of the crew and their aircraft during the incident.]\n"
          ]
        }
      ]
    },
    {
      "cell_type": "code",
      "source": [
        "sent_score = {}"
      ],
      "metadata": {
        "id": "BMlde_5x92N1"
      },
      "execution_count": null,
      "outputs": []
    },
    {
      "cell_type": "code",
      "source": [
        "for sent in sent_token:\n",
        "  for word in sent:\n",
        "    if word.text.lower() in word_frequency.keys():\n",
        "      if sent not in sent_score.keys():\n",
        "        sent_score[sent] = word_frequency[word.text.lower()]\n",
        "      else:\n",
        "        sent_score[sent] += word_frequency[word.text.lower()]"
      ],
      "metadata": {
        "id": "mf3rmuWm95ln"
      },
      "execution_count": null,
      "outputs": []
    },
    {
      "cell_type": "code",
      "source": [
        "print(sent_score)"
      ],
      "metadata": {
        "colab": {
          "base_uri": "https://localhost:8080/"
        },
        "id": "AzJZfcQf-1RP",
        "outputId": "3eb2b566-d0b4-4af3-91fb-b8348c767e48"
      },
      "execution_count": null,
      "outputs": [
        {
          "output_type": "stream",
          "name": "stdout",
          "text": [
            "{The US Air Force crew that took off from an Afghan airport last year while civilians swarmed their plane \"acted appropriately\", an inquiry has found.\n",
            "\n",
            ": 3.4166666666666665, People were seen running alongside the air force plane in August 2021 as it left the airport, some clinging to its side, during the chaotic US withdrawal.\n",
            "\n",
            ": 2.9999999999999996, Human remains were found in the plane's wheel well after it landed in Qatar.\n",
            "\n",
            ": 1.9166666666666667, But an incident review by the military said the crew \"was in compliance\" with regulations.\n",
            "\n",
            ": 2.8333333333333335, A spokeswoman for the Air Force's Office of Special Investigations said on Monday that the flight crew had been cleared after a nearly 10-month investigation.\n",
            "\n",
            ": 3.083333333333333, The crew \"was in compliance with applicable rules of engagement specific to the event and the overall law of armed conflict\" amid \"an unprecedented evacuation where resources were constrained\", Linda Card said.\n",
            "\n",
            ": 3.583333333333333, The air force had said shortly after the incident that the crew had to depart the airport quickly due to a \"rapidly deteriorating security situation around the aircraft\".\n",
            "\n",
            ": 3.9166666666666674, As the Taliban recaptured Afghanistan amid the US withdrawal, thousands of people scrambled to the Kabul airport as Western nations rushed to evacuate their citizens and Afghan colleagues from the country.\n",
            "\n",
            ": 2.666666666666666, Images showed hundreds running alongside the C-17 Globemaster III as it moved down a runway.: 0.6666666666666667, Local media reports later said that at least two people fell to their deaths after it took off, in addition to the human remains found in the aircraft's landing gear.\n",
            "\n",
            ": 3.25, Among the dead was footballer Zaki Anwari, 19, who had played for Afghanistan's national youth team.\n",
            "\n",
            ": 1.5833333333333333, Anwari \"saw the arrival of the Taliban as the end of his dreams and sports opportunities\", the country's General Directorate of Physical Education and Sports said in a statement on Facebook at the time.\n",
            "\n",
            ": 2.4166666666666665, Air Force spokeswoman Ann Stefanek acknowledged on Monday the incident was \"a tragic event and our hearts go out to the families of the deceased\".\n",
            "\n",
            ": 2.4166666666666665, But she confirmed the crew had returned to flight status, crediting their \"airmanship and quick thinking\" for ensuring the safety of the crew and their aircraft during the incident.: 2.6666666666666665}\n"
          ]
        }
      ]
    },
    {
      "cell_type": "markdown",
      "source": [
        "# Summarize 30% the document based on the scores"
      ],
      "metadata": {
        "id": "X6dQBd-rJvNC"
      }
    },
    {
      "cell_type": "code",
      "source": [
        "from heapq import nlargest"
      ],
      "metadata": {
        "id": "pqzx7D8bAIu9"
      },
      "execution_count": null,
      "outputs": []
    },
    {
      "cell_type": "code",
      "source": [
        "len(sent_score) * .3"
      ],
      "metadata": {
        "colab": {
          "base_uri": "https://localhost:8080/"
        },
        "id": "AKIDesK8ANVp",
        "outputId": "dbc98438-359e-4153-c096-e82a28636da8"
      },
      "execution_count": null,
      "outputs": [
        {
          "output_type": "execute_result",
          "data": {
            "text/plain": [
              "4.2"
            ]
          },
          "metadata": {},
          "execution_count": 70
        }
      ]
    },
    {
      "cell_type": "markdown",
      "source": [
        "# Summary"
      ],
      "metadata": {
        "id": "FyfJnW9eKBpt"
      }
    },
    {
      "cell_type": "code",
      "source": [
        "summary = nlargest(n = 5, iterable = sent_score, key = sent_score.get)"
      ],
      "metadata": {
        "id": "AIFOaCYuAW-5"
      },
      "execution_count": null,
      "outputs": []
    },
    {
      "cell_type": "code",
      "source": [
        "print(summary)"
      ],
      "metadata": {
        "colab": {
          "base_uri": "https://localhost:8080/"
        },
        "id": "RQo6qBWiAxlX",
        "outputId": "8576c71c-931f-4fd4-bc91-ee6d17ff0d3d"
      },
      "execution_count": null,
      "outputs": [
        {
          "output_type": "stream",
          "name": "stdout",
          "text": [
            "[The air force had said shortly after the incident that the crew had to depart the airport quickly due to a \"rapidly deteriorating security situation around the aircraft\".\n",
            "\n",
            ", The crew \"was in compliance with applicable rules of engagement specific to the event and the overall law of armed conflict\" amid \"an unprecedented evacuation where resources were constrained\", Linda Card said.\n",
            "\n",
            ", The US Air Force crew that took off from an Afghan airport last year while civilians swarmed their plane \"acted appropriately\", an inquiry has found.\n",
            "\n",
            ", Local media reports later said that at least two people fell to their deaths after it took off, in addition to the human remains found in the aircraft's landing gear.\n",
            "\n",
            ", A spokeswoman for the Air Force's Office of Special Investigations said on Monday that the flight crew had been cleared after a nearly 10-month investigation.\n",
            "\n",
            "]\n"
          ]
        }
      ]
    },
    {
      "cell_type": "code",
      "source": [
        "final_summary = [word.text for word in summary]\n",
        "print(final_summary)"
      ],
      "metadata": {
        "colab": {
          "base_uri": "https://localhost:8080/"
        },
        "id": "H4bcAxkYAzaG",
        "outputId": "b0b07ed1-a2b5-43e9-b2d9-648100c7a288"
      },
      "execution_count": null,
      "outputs": [
        {
          "output_type": "stream",
          "name": "stdout",
          "text": [
            "['The air force had said shortly after the incident that the crew had to depart the airport quickly due to a \"rapidly deteriorating security situation around the aircraft\".\\n\\n', 'The crew \"was in compliance with applicable rules of engagement specific to the event and the overall law of armed conflict\" amid \"an unprecedented evacuation where resources were constrained\", Linda Card said.\\n\\n', 'The US Air Force crew that took off from an Afghan airport last year while civilians swarmed their plane \"acted appropriately\", an inquiry has found.\\n\\n', \"Local media reports later said that at least two people fell to their deaths after it took off, in addition to the human remains found in the aircraft's landing gear.\\n\\n\", \"A spokeswoman for the Air Force's Office of Special Investigations said on Monday that the flight crew had been cleared after a nearly 10-month investigation.\\n\\n\"]\n"
          ]
        }
      ]
    },
    {
      "cell_type": "code",
      "source": [
        "summary = \" \".join(final_summary)\n",
        "print(summary)"
      ],
      "metadata": {
        "colab": {
          "base_uri": "https://localhost:8080/"
        },
        "id": "TkPXQgVgBCAr",
        "outputId": "e27625ed-e821-41b8-d0a6-6f81ef88717c"
      },
      "execution_count": null,
      "outputs": [
        {
          "output_type": "stream",
          "name": "stdout",
          "text": [
            "The air force had said shortly after the incident that the crew had to depart the airport quickly due to a \"rapidly deteriorating security situation around the aircraft\".\n",
            "\n",
            " The crew \"was in compliance with applicable rules of engagement specific to the event and the overall law of armed conflict\" amid \"an unprecedented evacuation where resources were constrained\", Linda Card said.\n",
            "\n",
            " The US Air Force crew that took off from an Afghan airport last year while civilians swarmed their plane \"acted appropriately\", an inquiry has found.\n",
            "\n",
            " Local media reports later said that at least two people fell to their deaths after it took off, in addition to the human remains found in the aircraft's landing gear.\n",
            "\n",
            " A spokeswoman for the Air Force's Office of Special Investigations said on Monday that the flight crew had been cleared after a nearly 10-month investigation.\n",
            "\n",
            "\n"
          ]
        }
      ]
    },
    {
      "cell_type": "code",
      "source": [
        "len(summary) / len(doc_to_summarize)"
      ],
      "metadata": {
        "colab": {
          "base_uri": "https://localhost:8080/"
        },
        "id": "NuajuWuDBXtZ",
        "outputId": "9fe575c1-39e2-42c9-cfb0-148b845977f8"
      },
      "execution_count": null,
      "outputs": [
        {
          "output_type": "execute_result",
          "data": {
            "text/plain": [
              "0.4081920903954802"
            ]
          },
          "metadata": {},
          "execution_count": 76
        }
      ]
    }
  ]
}