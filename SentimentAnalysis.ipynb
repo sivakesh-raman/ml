{
  "nbformat": 4,
  "nbformat_minor": 0,
  "metadata": {
    "colab": {
      "name": "SentimentAnalysis.ipynb",
      "provenance": [],
      "collapsed_sections": [],
      "mount_file_id": "1asqLCDZ9NyW7_bJAmVDjFAf00ZEKWkfj",
      "authorship_tag": "ABX9TyNyMfOzRSMAwSVOoqcikyNa"
    },
    "kernelspec": {
      "name": "python3",
      "display_name": "Python 3"
    }
  },
  "cells": [
    {
      "cell_type": "code",
      "metadata": {
        "id": "jV2rxt1QmfX3",
        "colab_type": "code",
        "colab": {}
      },
      "source": [
        "import numpy as np\n",
        "import pandas as pd"
      ],
      "execution_count": 20,
      "outputs": []
    },
    {
      "cell_type": "code",
      "metadata": {
        "id": "14yql6PQngeH",
        "colab_type": "code",
        "colab": {}
      },
      "source": [
        "with open('/content/drive/My Drive/Colab Notebooks/ml_data/amazon_cells_labelled.txt', 'r') as text_file:\n",
        "  lines = text_file.read().split('\\n')\n",
        "with open('/content/drive/My Drive/Colab Notebooks/ml_data/imdb_labelled.txt', 'r') as text_file1:\n",
        "  lines += text_file1.read().split('\\n')\n",
        "with open('/content/drive/My Drive/Colab Notebooks/ml_data/yelp_labelled.txt', 'r') as text_file2:\n",
        "  lines += text_file2.read().split('\\n')\n",
        "\n"
      ],
      "execution_count": 39,
      "outputs": []
    },
    {
      "cell_type": "code",
      "metadata": {
        "id": "jJ8H2XA2prky",
        "colab_type": "code",
        "colab": {}
      },
      "source": [
        "lines = [line.split('\\t') for line in lines if len(line.split('\\t')) == 2 and line.split('\\t')[1] != '']"
      ],
      "execution_count": 40,
      "outputs": []
    },
    {
      "cell_type": "code",
      "metadata": {
        "id": "Qf9H-_MBqaK7",
        "colab_type": "code",
        "colab": {}
      },
      "source": [
        "train_data = [line[0] for line in lines]\n",
        "train_labels = [int(line[1]) for line in lines]"
      ],
      "execution_count": 41,
      "outputs": []
    },
    {
      "cell_type": "code",
      "metadata": {
        "id": "M2lP2mUJrDCu",
        "colab_type": "code",
        "colab": {
          "base_uri": "https://localhost:8080/",
          "height": 34
        },
        "outputId": "f726425f-e134-4c69-cf6d-9c87a6b788f6"
      },
      "source": [
        "len(train_data)"
      ],
      "execution_count": 42,
      "outputs": [
        {
          "output_type": "execute_result",
          "data": {
            "text/plain": [
              "3000"
            ]
          },
          "metadata": {
            "tags": []
          },
          "execution_count": 42
        }
      ]
    },
    {
      "cell_type": "code",
      "metadata": {
        "id": "rWl4ZZ5UrM2s",
        "colab_type": "code",
        "colab": {
          "base_uri": "https://localhost:8080/",
          "height": 34
        },
        "outputId": "e71a5c1a-2ffc-4604-85ac-a778f924142d"
      },
      "source": [
        "len(train_labels)"
      ],
      "execution_count": 43,
      "outputs": [
        {
          "output_type": "execute_result",
          "data": {
            "text/plain": [
              "3000"
            ]
          },
          "metadata": {
            "tags": []
          },
          "execution_count": 43
        }
      ]
    },
    {
      "cell_type": "code",
      "metadata": {
        "id": "vSnnMfJDsIhM",
        "colab_type": "code",
        "colab": {}
      },
      "source": [
        "from sklearn.feature_extraction.text import CountVectorizer\n",
        "count_vectorizer = CountVectorizer(binary = \"true\")\n",
        "train_data = count_vectorizer.fit_transform(train_data)"
      ],
      "execution_count": 44,
      "outputs": []
    },
    {
      "cell_type": "code",
      "metadata": {
        "id": "pPDAqoN1tKJW",
        "colab_type": "code",
        "colab": {
          "base_uri": "https://localhost:8080/",
          "height": 51
        },
        "outputId": "f8eaa972-fed8-428f-cfcf-26dabaf7e144"
      },
      "source": [
        "train_data"
      ],
      "execution_count": 46,
      "outputs": [
        {
          "output_type": "execute_result",
          "data": {
            "text/plain": [
              "<3000x5155 sparse matrix of type '<class 'numpy.int64'>'\n",
              "\twith 31578 stored elements in Compressed Sparse Row format>"
            ]
          },
          "metadata": {
            "tags": []
          },
          "execution_count": 46
        }
      ]
    },
    {
      "cell_type": "code",
      "metadata": {
        "id": "b0-EvMD-tSiP",
        "colab_type": "code",
        "colab": {}
      },
      "source": [
        "from sklearn.naive_bayes import BernoulliNB\n",
        "classifier = BernoulliNB().fit(train_data, train_labels)"
      ],
      "execution_count": 47,
      "outputs": []
    },
    {
      "cell_type": "code",
      "metadata": {
        "id": "rCruQyaDt9cX",
        "colab_type": "code",
        "colab": {
          "base_uri": "https://localhost:8080/",
          "height": 34
        },
        "outputId": "040a3491-d049-49dc-adda-38cd5139cf9c"
      },
      "source": [
        "classifier.predict(count_vectorizer.transform(['good movie']))"
      ],
      "execution_count": 48,
      "outputs": [
        {
          "output_type": "execute_result",
          "data": {
            "text/plain": [
              "array([1])"
            ]
          },
          "metadata": {
            "tags": []
          },
          "execution_count": 48
        }
      ]
    },
    {
      "cell_type": "code",
      "metadata": {
        "id": "fHch2GEcuPOO",
        "colab_type": "code",
        "colab": {
          "base_uri": "https://localhost:8080/",
          "height": 34
        },
        "outputId": "2dfc1f6e-6bbd-4c69-a9b6-8264124fed60"
      },
      "source": [
        "classifier.predict(count_vectorizer.transform(['bad movie']))"
      ],
      "execution_count": 49,
      "outputs": [
        {
          "output_type": "execute_result",
          "data": {
            "text/plain": [
              "array([0])"
            ]
          },
          "metadata": {
            "tags": []
          },
          "execution_count": 49
        }
      ]
    },
    {
      "cell_type": "code",
      "metadata": {
        "id": "rN-sDj8tuSpp",
        "colab_type": "code",
        "colab": {}
      },
      "source": [
        ""
      ],
      "execution_count": null,
      "outputs": []
    }
  ]
}